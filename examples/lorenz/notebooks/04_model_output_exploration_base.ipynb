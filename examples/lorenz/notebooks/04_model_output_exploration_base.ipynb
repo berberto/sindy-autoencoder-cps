{
 "cells": [
  {
   "cell_type": "code",
   "execution_count": null,
   "id": "ad3ab4f0",
   "metadata": {},
   "outputs": [],
   "source": [
    "import os\n",
    "os.chdir('../../..')"
   ]
  },
  {
   "cell_type": "code",
   "execution_count": null,
   "id": "dcc8dece",
   "metadata": {},
   "outputs": [],
   "source": [
    "from IPython.core.display import display, HTML\n",
    "display(HTML(\"<style>.container { width:100% !important; }</style>\"))"
   ]
  },
  {
   "cell_type": "code",
   "execution_count": null,
   "id": "68e9f1bc",
   "metadata": {},
   "outputs": [],
   "source": [
    "ll examples/"
   ]
  },
  {
   "cell_type": "code",
   "execution_count": null,
   "id": "f2fb9673",
   "metadata": {},
   "outputs": [],
   "source": []
  },
  {
   "cell_type": "code",
   "execution_count": null,
   "id": "5f7aeac3",
   "metadata": {},
   "outputs": [],
   "source": [
    "from examples.lorenz.dataset import LorenzBaseDataSet\n",
    "from torch.utils.data import DataLoader"
   ]
  },
  {
   "cell_type": "code",
   "execution_count": null,
   "id": "5681019c",
   "metadata": {},
   "outputs": [],
   "source": [
    "dataset = LorenzBaseDataSet()"
   ]
  },
  {
   "cell_type": "code",
   "execution_count": null,
   "id": "77251255",
   "metadata": {},
   "outputs": [],
   "source": [
    "batch_size = 1000\n",
    "dataloader = DataLoader(dataset, batch_size=batch_size, num_workers=24)"
   ]
  },
  {
   "cell_type": "code",
   "execution_count": null,
   "id": "8faa9c67",
   "metadata": {},
   "outputs": [],
   "source": [
    "from sindy_autoencoder_cps.lightning_module import SINDyAutoencoder\n",
    "import yaml\n",
    "# MODEL_VERSION = 'freq_and_phase'\n",
    "MODEL_VERSION = 'version_7'\n",
    "\n",
    "hparams_path = f'./lightning_logs/{MODEL_VERSION}/hparams.yaml'\n",
    "with open(hparams_path, 'r') as stream:\n",
    "        hparam_dct = yaml.safe_load(stream)\n",
    "ckpt_file_name = os.listdir(f'./lightning_logs/{MODEL_VERSION}/checkpoints/')[-1]\n",
    "ckpt_file_path = f'./lightning_logs/{MODEL_VERSION}/checkpoints/{ckpt_file_name}'\n",
    "model = SINDyAutoencoder.load_from_checkpoint(ckpt_file_path)\n",
    "model"
   ]
  },
  {
   "cell_type": "code",
   "execution_count": null,
   "id": "59b24d4c",
   "metadata": {},
   "outputs": [],
   "source": [
    "model.SINDyLibrary.device"
   ]
  },
  {
   "cell_type": "code",
   "execution_count": null,
   "id": "3813ff03",
   "metadata": {},
   "outputs": [],
   "source": [
    "batches = iter(dataloader)"
   ]
  },
  {
   "cell_type": "code",
   "execution_count": null,
   "id": "ec101cd9",
   "metadata": {},
   "outputs": [],
   "source": [
    "x, xdot, idxs = batches.next()\n",
    "print(f'shape x: {x.shape},   shape xdot: {xdot.shape}')"
   ]
  },
  {
   "cell_type": "code",
   "execution_count": null,
   "id": "40c1ff28",
   "metadata": {},
   "outputs": [],
   "source": [
    "x, xdot"
   ]
  },
  {
   "cell_type": "code",
   "execution_count": null,
   "id": "7effb047",
   "metadata": {},
   "outputs": [],
   "source": [
    "import torch\n",
    "torch.norm(x) / torch.norm(xdot)"
   ]
  },
  {
   "cell_type": "code",
   "execution_count": null,
   "id": "15616910",
   "metadata": {},
   "outputs": [],
   "source": [
    "torch.norm(xdot)"
   ]
  },
  {
   "cell_type": "code",
   "execution_count": null,
   "id": "effa7076",
   "metadata": {},
   "outputs": [],
   "source": [
    "x_hat, xdot_hat, z, zdot, zdot_hat = model.cuda()(x.cuda(), xdot.cuda())"
   ]
  },
  {
   "cell_type": "code",
   "execution_count": null,
   "id": "4a0e22cd",
   "metadata": {},
   "outputs": [],
   "source": [
    "#select random sample and compare original and recostruction\n",
    "sample = 0\n",
    "# sample = 477\n",
    "x_sample = x[sample, :].cpu().detach().numpy()\n",
    "xhat_sample = x_hat[sample, :].cpu().detach().numpy()\n",
    "z_sample = z[sample, :].cpu().detach().numpy()\n",
    "xdot_sample = xdot[sample, :].cpu().detach().numpy()\n",
    "xdot_hat_sample = xdot_hat[sample, :].cpu().detach().numpy()\n",
    "zdot_sample = zdot[sample, :].cpu().detach().numpy()\n",
    "zdot_hat_sample = zdot_hat[sample, :].cpu().detach().numpy()\n",
    "idx_sample = idxs[sample]"
   ]
  },
  {
   "cell_type": "code",
   "execution_count": null,
   "id": "fb140f89",
   "metadata": {},
   "outputs": [],
   "source": [
    "from plotly.subplots import make_subplots\n",
    "import plotly.graph_objects as go\n",
    "import numpy as np\n",
    "\n",
    "fig = make_subplots(rows=3, cols=3, shared_xaxes=False)\n",
    "\n",
    "for i in range(3):\n",
    "    fig.add_trace(go.Scatter(x=x[:, i].cpu().detach().numpy(),\n",
    "                       y=x_hat[:, i].cpu().detach().numpy(),\n",
    "                      mode='markers', name=f'x_hat{i} over x{i}',\n",
    "#                              marker_color='blue',\n",
    "                             opacity=.7), row=1, col=1+i)\n",
    "    fig.add_trace(go.Scatter(x=xdot[:, i].cpu().detach().numpy(),\n",
    "                       y=xdot_hat[:, i].cpu().detach().numpy(),\n",
    "                      mode='markers', name=f'z_hat{i} over z{i}',\n",
    "#                              marker_color='blue',\n",
    "                             opacity=.7), row=2, col=1+i)\n",
    "    fig.add_trace(go.Scatter(x=zdot[:, i].cpu().detach().numpy(),\n",
    "                       y=zdot_hat[:, i].cpu().detach().numpy(),\n",
    "                      mode='markers', name=f'zdot_hat{i} over zdot{i}',\n",
    "#                              marker_color='blue',\n",
    "                             opacity=.7), row=3, col=1+i)\n",
    "fig.show()"
   ]
  },
  {
   "cell_type": "code",
   "execution_count": null,
   "id": "45db19e9",
   "metadata": {},
   "outputs": [],
   "source": [
    "import pandas as pd\n",
    "XI = model.XI.cpu().detach().numpy()\n",
    "XI.max()\n",
    "df_XI = pd.DataFrame(XI, columns=['z0_dot_hat', 'z1_dot_hat', 'z2_dot_hat'])\n",
    "df_XI.index=model.SINDyLibrary.feature_names"
   ]
  },
  {
   "cell_type": "code",
   "execution_count": null,
   "id": "72b85d60",
   "metadata": {},
   "outputs": [],
   "source": [
    "import plotly.express as px\n",
    "print(model.SINDyLibrary.feature_names)\n",
    "px.imshow(df_XI.abs())"
   ]
  },
  {
   "cell_type": "code",
   "execution_count": null,
   "id": "b0bba78c",
   "metadata": {},
   "outputs": [],
   "source": [
    "from plotly.subplots import make_subplots\n",
    "import plotly.graph_objects as go\n",
    "import numpy as np\n",
    "\n",
    "fig = make_subplots(rows=2, cols=3, shared_xaxes=True)\n",
    "\n",
    "for i in range(3):\n",
    "    fig.add_trace(go.Scatter(x=np.array(range(z.shape[0])),\n",
    "                       y=z[:, i].cpu().detach().numpy(),\n",
    "                      mode='markers', name=f'z{i}',\n",
    "                             marker_color='blue', opacity=.5), row=1, col=1+i,\n",
    "                    )\n",
    "for i in range(3):\n",
    "    fig.add_trace(go.Scatter(x=np.array(range(z.shape[0])),\n",
    "                       y=zdot_hat[:, i].cpu().detach().numpy(),\n",
    "                      mode='markers', name=f'zdot_hat{i}',\n",
    "                            marker_color='blue', opacity=.4), row=2, col=1+i)\n",
    "for i in range(3):\n",
    "    fig.add_trace(go.Scatter(x=np.array(range(z.shape[0])),\n",
    "                       y=zdot[:, i].cpu().detach().numpy(),\n",
    "                      mode='markers', name=f'zdot{i}',\n",
    "                             marker_color='green', opacity=.5), row=2, col=1+i)\n",
    "\n",
    "\n",
    "\n",
    "fig.update_layout(height=600, width=1200, title_text='z over time and zdot')\n",
    "fig.show()"
   ]
  },
  {
   "cell_type": "code",
   "execution_count": null,
   "id": "e6d3ff22",
   "metadata": {},
   "outputs": [],
   "source": [
    "import examples.lorenz.constants as const\n",
    "z_real = dataset.df.iloc[idxs][const.Z_COL_NAMES]\n",
    "fig = make_subplots(rows=3, cols=3, shared_xaxes=True)\n",
    "\n",
    "for i in range(3):\n",
    "    for j in range(3):\n",
    "        fig.add_trace(go.Scatter(y=z.detach().cpu().numpy()[:, i],\n",
    "                           x=z_real.values[:, j],\n",
    "                          mode='markers', name=f'z{i} over z_real{j}'), row=1+j, col=1+i)\n",
    "\n",
    "\n",
    "fig.update_layout(height=600, width=1200, title_text=\"Real hidden state vs latent activations\")\n",
    "fig.show()"
   ]
  },
  {
   "cell_type": "code",
   "execution_count": null,
   "id": "84b37834",
   "metadata": {},
   "outputs": [],
   "source": [
    "zdot_real = dataset.df.iloc[idxs][const.Z_DOT_COL_NAMES]\n",
    "fig = make_subplots(rows=3, cols=3, shared_xaxes=True)\n",
    "\n",
    "for i in range(3):\n",
    "    for j in range(3):\n",
    "        fig.add_trace(go.Scatter(y=zdot.detach().cpu().numpy()[:, i],\n",
    "                           x=zdot_real.values[:, j],\n",
    "                          mode='markers', name=f'z{i} over z_real{j}'), row=1+j, col=1+i)\n",
    "\n",
    "\n",
    "fig.update_layout(height=600, width=1200, title_text=\"Real hidden states derivatives vs predicted\")\n",
    "fig.show()"
   ]
  },
  {
   "cell_type": "code",
   "execution_count": null,
   "id": "3b91be5b",
   "metadata": {},
   "outputs": [],
   "source": []
  },
  {
   "cell_type": "code",
   "execution_count": null,
   "id": "8f56ec53",
   "metadata": {},
   "outputs": [],
   "source": [
    "[(val, i) for val,i in enumerate(['a', 'b', 'c'])]"
   ]
  },
  {
   "cell_type": "code",
   "execution_count": null,
   "id": "10a90265",
   "metadata": {},
   "outputs": [],
   "source": [
    "model.XI_coefficient_mask"
   ]
  },
  {
   "cell_type": "code",
   "execution_count": null,
   "id": "aa7e9251",
   "metadata": {},
   "outputs": [],
   "source": []
  },
  {
   "cell_type": "code",
   "execution_count": null,
   "id": "23145d31",
   "metadata": {},
   "outputs": [],
   "source": []
  },
  {
   "cell_type": "code",
   "execution_count": null,
   "id": "2c403cdb",
   "metadata": {},
   "outputs": [],
   "source": []
  },
  {
   "cell_type": "code",
   "execution_count": null,
   "id": "7404adcb",
   "metadata": {},
   "outputs": [],
   "source": []
  },
  {
   "cell_type": "code",
   "execution_count": null,
   "id": "4bea013a",
   "metadata": {},
   "outputs": [],
   "source": []
  }
 ],
 "metadata": {
  "kernelspec": {
   "display_name": "Python 3 (ipykernel)",
   "language": "python",
   "name": "python3"
  },
  "language_info": {
   "codemirror_mode": {
    "name": "ipython",
    "version": 3
   },
   "file_extension": ".py",
   "mimetype": "text/x-python",
   "name": "python",
   "nbconvert_exporter": "python",
   "pygments_lexer": "ipython3",
   "version": "3.9.5"
  }
 },
 "nbformat": 4,
 "nbformat_minor": 5
}
