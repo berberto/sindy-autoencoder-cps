{
 "cells": [
  {
   "cell_type": "code",
   "execution_count": null,
   "metadata": {},
   "outputs": [],
   "source": [
    "import os\n",
    "os.chdir('../../..')\n"
   ]
  },
  {
   "cell_type": "code",
   "execution_count": null,
   "metadata": {},
   "outputs": [],
   "source": [
    "from IPython.core.display import display, HTML\n",
    "display(HTML(\"<style>.container { width:100% !important; }</style>\"))"
   ]
  },
  {
   "cell_type": "code",
   "execution_count": null,
   "metadata": {},
   "outputs": [],
   "source": [
    "from examples.lorenz.data_gen import LorenzDataGenerator\n",
    "import pandas as pd\n",
    "import examples.lorenz.constants as const\n",
    "import pysindy as ps\n",
    "import numpy as np\n",
    "import plotly.express as px\n",
    "from ipywidgets import interact\n",
    "import ipywidgets as widgets\n",
    "from plotly.subplots import make_subplots\n",
    "import plotly.graph_objects as go\n",
    "%load_ext autoreload\n",
    "%autoreload 2"
   ]
  },
  {
   "cell_type": "code",
   "execution_count": null,
   "metadata": {},
   "outputs": [],
   "source": [
    "df_z = pd.read_parquet(const.Z_SPACE_DATA_PATH)"
   ]
  },
  {
   "cell_type": "code",
   "execution_count": null,
   "metadata": {},
   "outputs": [],
   "source": [
    "df_z.head()"
   ]
  },
  {
   "cell_type": "code",
   "execution_count": null,
   "metadata": {},
   "outputs": [],
   "source": [
    "df_z.tail()"
   ]
  },
  {
   "cell_type": "code",
   "execution_count": null,
   "metadata": {},
   "outputs": [],
   "source": [
    "def _create_ts_plot(idx):\n",
    "    df_plot = df_z[df_z[const.UID_INITIAL_STATE_COL_NAME] == idx]\n",
    "    # signal 1\n",
    "    return px.scatter_3d(x=df_plot.x, y=df_plot.y, z=df_plot.z, color=df_plot.time, opacity=.1, template='plotly_dark')\n",
    "interact(_create_ts_plot, idx=list(range(const.NUMBER_INITIAL_STATES)))"
   ]
  },
  {
   "cell_type": "code",
   "execution_count": null,
   "metadata": {},
   "outputs": [],
   "source": [
    "def _create_ts_plot(idx):\n",
    "    df_plot = df_z[df_z[const.UID_INITIAL_STATE_COL_NAME] == idx]\n",
    "    # signal 1\n",
    "    return px.scatter_3d(x=df_plot.x_dot, y=df_plot.y_dot, z=df_plot.z_dot, color=df_plot.time, opacity=.1, template='plotly_dark')\n",
    "interact(_create_ts_plot, idx=list(range(const.NUMBER_INITIAL_STATES)))"
   ]
  },
  {
   "cell_type": "markdown",
   "metadata": {},
   "source": [
    "# Lets try the pysindy exercise in the z-space!"
   ]
  },
  {
   "cell_type": "code",
   "execution_count": null,
   "metadata": {},
   "outputs": [],
   "source": [
    "library_functions = [\n",
    "    lambda x : np.exp(x),\n",
    "    lambda x : 1./x,\n",
    "    lambda x : x,\n",
    "    lambda x : np.sin(x),\n",
    "    lambda x : np.cos(x),\n",
    "    lambda x,y : np.sin(x+y),\n",
    "    lambda x,y : np.cos(x+y),\n",
    "    lambda x,y : np.sign(x-y)*np.sqrt(np.abs(x-y)),\n",
    "    lambda x: x**2,\n",
    "#     lambda x: np.sqrt(x),\n",
    "    lambda x,y: x*y,\n",
    "    lambda x,y: x**2*y,\n",
    "    lambda x,y: x*y**2\n",
    "]\n",
    "library_function_names = [\n",
    "    lambda x : 'exp(' + x + ')',\n",
    "    lambda x : '1/' + x,\n",
    "    lambda x : x,\n",
    "    lambda x : f'sin({x})',\n",
    "    lambda x : f'cos({x})',\n",
    "    lambda x,y : 'sin(' + x + '+' + y + ')',\n",
    "    lambda x,y : f'cos({x}+{y})',\n",
    "    lambda x,y : 'sign('+x+'-'+y+')*sqrt('+x+' - '+y+')',\n",
    "    lambda x: x+'^2',\n",
    "#     lambda x: f'sqrt({x})',\n",
    "    lambda x,y: f'{x}*{y}',\n",
    "    lambda x,y: f'{x}^2*{y}',\n",
    "    lambda x,y: f'{x}*{y}^2'\n",
    "]\n",
    "feature_library = ps.CustomLibrary(\n",
    "    library_functions=library_functions, function_names=library_function_names\n",
    ")"
   ]
  },
  {
   "cell_type": "code",
   "execution_count": null,
   "metadata": {},
   "outputs": [],
   "source": [
    "optimizer = ps.STLSQ(threshold=0.5)\n",
    "model = ps.SINDy(\n",
    "    feature_library=feature_library,\n",
    "    optimizer=optimizer,\n",
    "    feature_names=[\"x\", \"y\", \"z\"],\n",
    ")\n",
    "model.fit(df_z[const.Z_COL_NAMES].values, x_dot=df_z[const.Z_DOT_COL_NAMES].values, t=0.01)\n",
    "model.print()"
   ]
  },
  {
   "cell_type": "code",
   "execution_count": null,
   "metadata": {},
   "outputs": [],
   "source": [
    "df_z.describe()"
   ]
  },
  {
   "cell_type": "code",
   "execution_count": null,
   "metadata": {},
   "outputs": [],
   "source": [
    "x = df_z[const.Z_COL_NAMES].values\n",
    "x"
   ]
  },
  {
   "cell_type": "code",
   "execution_count": null,
   "metadata": {},
   "outputs": [],
   "source": [
    "x_dot = df_z[const.Z_DOT_COL_NAMES].values"
   ]
  },
  {
   "cell_type": "code",
   "execution_count": null,
   "metadata": {},
   "outputs": [],
   "source": [
    "x_2_norm = np.array([v[0]**2+v[1]**2+v[2]**2 for v in x])\n",
    "x_2_norm_sum = x_2_norm.sum()\n",
    "x_2_norm_sum"
   ]
  },
  {
   "cell_type": "code",
   "execution_count": null,
   "metadata": {},
   "outputs": [],
   "source": [
    "x_dot_2_norm = np.array([v[0]**2+v[1]**2+v[2]**2 for v in x_dot])\n",
    "x_dot_2_norm_sum = x_dot_2_norm.sum()\n",
    "x_dot_2_norm_sum"
   ]
  },
  {
   "cell_type": "code",
   "execution_count": null,
   "metadata": {},
   "outputs": [],
   "source": [
    "x_2_norm_sum/x_dot_2_norm_sum"
   ]
  },
  {
   "cell_type": "code",
   "execution_count": null,
   "metadata": {},
   "outputs": [],
   "source": [
    "5e-2"
   ]
  },
  {
   "cell_type": "markdown",
   "metadata": {},
   "source": [
    "## NICE!"
   ]
  },
  {
   "cell_type": "code",
   "execution_count": null,
   "metadata": {},
   "outputs": [],
   "source": [
    "feature_library.get_feature_names()"
   ]
  },
  {
   "cell_type": "code",
   "execution_count": null,
   "metadata": {},
   "outputs": [],
   "source": [
    "from examples.lorenz.dataset import LorenzBaseDataSet\n",
    "from torch.utils.data import DataLoader"
   ]
  },
  {
   "cell_type": "code",
   "execution_count": null,
   "metadata": {},
   "outputs": [],
   "source": [
    "dataset = LorenzBaseDataSet()"
   ]
  },
  {
   "cell_type": "code",
   "execution_count": null,
   "metadata": {},
   "outputs": [],
   "source": [
    "batch_size = 100000\n",
    "dataloader = DataLoader(dataset, batch_size=batch_size, num_workers=24)"
   ]
  },
  {
   "cell_type": "code",
   "execution_count": null,
   "metadata": {},
   "outputs": [],
   "source": [
    "batches = iter(dataloader)"
   ]
  },
  {
   "cell_type": "code",
   "execution_count": null,
   "metadata": {},
   "outputs": [],
   "source": [
    "x, xdot, idx = batches.next()"
   ]
  },
  {
   "cell_type": "code",
   "execution_count": null,
   "metadata": {},
   "outputs": [],
   "source": [
    "type(x)"
   ]
  },
  {
   "cell_type": "code",
   "execution_count": null,
   "metadata": {},
   "outputs": [],
   "source": [
    "import torch\n",
    "torch.norm(x)"
   ]
  },
  {
   "cell_type": "code",
   "execution_count": null,
   "metadata": {},
   "outputs": [],
   "source": [
    "torch.norm(xdot)"
   ]
  },
  {
   "cell_type": "code",
   "execution_count": null,
   "metadata": {},
   "outputs": [],
   "source": [
    "torch.norm(x) / torch.norm(xdot)"
   ]
  },
  {
   "cell_type": "code",
   "execution_count": null,
   "metadata": {},
   "outputs": [],
   "source": [
    "a = torch.tensor([[1., 2.],[3.,4.]])"
   ]
  },
  {
   "cell_type": "code",
   "execution_count": null,
   "metadata": {},
   "outputs": [],
   "source": [
    "a**2"
   ]
  },
  {
   "cell_type": "code",
   "execution_count": null,
   "metadata": {},
   "outputs": [],
   "source": [
    "x2norm = torch.linalg.matrix_norm(x, ord=2)"
   ]
  },
  {
   "cell_type": "code",
   "execution_count": null,
   "metadata": {},
   "outputs": [],
   "source": [
    "xdot2norm = torch.linalg.matrix_norm(xdot, ord=2)"
   ]
  },
  {
   "cell_type": "code",
   "execution_count": null,
   "metadata": {},
   "outputs": [],
   "source": [
    "x2norm**2/ xdot2norm**2"
   ]
  },
  {
   "cell_type": "markdown",
   "metadata": {},
   "source": [
    "# Now in the x space!"
   ]
  },
  {
   "cell_type": "code",
   "execution_count": null,
   "metadata": {},
   "outputs": [],
   "source": []
  },
  {
   "cell_type": "code",
   "execution_count": null,
   "metadata": {},
   "outputs": [],
   "source": [
    "df_x = pd.read_parquet(const.X_SPACE_DATA_PATH)\n",
    "\n",
    "def plot_pics(sample_index):\n",
    "    df_plot_x = df_x[df_x[const.UID_INITIAL_STATE_COL_NAME] == sample_index].copy().reset_index(drop=True)\n",
    "    sub_indexes = [i for i in range(5)]\n",
    "    img_sequence = [df_plot_x[const.X_COL_NAMES].values[i,:].reshape(\n",
    "        (const.PICTURE_SIZE, const.PICTURE_SIZE)) for i in sub_indexes]\n",
    "    fig = px.imshow(np.array(img_sequence),\n",
    "                    facet_col=0,\n",
    "#                     binary_string=True,\n",
    "                    labels={'facet_col':'sigma'}\n",
    "                   )\n",
    "    for i, index in enumerate(sub_indexes):\n",
    "        fig.layout.annotations[i]['text'] = f'Timestamp {index}'\n",
    "    fig.show()\n",
    "\n",
    "interact(plot_pics, sample_index=range(const.NUMBER_INITIAL_STATES))"
   ]
  },
  {
   "cell_type": "code",
   "execution_count": null,
   "metadata": {},
   "outputs": [],
   "source": [
    "[i for i in range(10,15)]"
   ]
  },
  {
   "cell_type": "code",
   "execution_count": null,
   "metadata": {},
   "outputs": [],
   "source": [
    "def plot_pics(sample_index):\n",
    "    df_plot_x = df_x[df_x[const.UID_INITIAL_STATE_COL_NAME] == sample_index].copy().reset_index(drop=True)\n",
    "    sub_indexes = [i for i in range(20,30)]\n",
    "    img_sequence = [df_plot_x[const.XDOT_COL_NAMES].values[i,:].reshape(\n",
    "        (const.PICTURE_SIZE, const.PICTURE_SIZE)) for i in sub_indexes]\n",
    "    fig = px.imshow(np.array(img_sequence),\n",
    "                    facet_col=0,\n",
    "#                     binary_string=True,\n",
    "                    labels={'facet_col':'sigma'}\n",
    "                   )\n",
    "    for i, index in enumerate(sub_indexes):\n",
    "        fig.layout.annotations[i]['text'] = f'Timestamp {index}'\n",
    "    fig.show()\n",
    "\n",
    "interact(plot_pics, sample_index=range(const.NUMBER_INITIAL_STATES))"
   ]
  },
  {
   "cell_type": "code",
   "execution_count": null,
   "metadata": {},
   "outputs": [],
   "source": [
    "df_x = pd.read_parquet(const.X_SPACE_DATA_PATH)\n",
    "\n",
    "def plot_pics(sample_index):\n",
    "    df_plot_x = df_x[df_x[const.UID_INITIAL_STATE_COL_NAME] == sample_index].copy().reset_index(drop=True)\n",
    "    sub_indexes = [0, 25, 50, 75, 100]\n",
    "    img_sequence = [df_plot_x[const.X_COL_NAMES].values[i,:].reshape(\n",
    "        (const.PICTURE_SIZE, const.PICTURE_SIZE)) for i in sub_indexes]\n",
    "    fig = px.imshow(np.array(img_sequence),\n",
    "                    facet_col=0,\n",
    "#                     binary_string=True,\n",
    "                    labels={'facet_col':'sigma'}\n",
    "                   )\n",
    "    for i, index in enumerate(sub_indexes):\n",
    "        fig.layout.annotations[i]['text'] = f'Timestamp {index}'\n",
    "    fig.show()\n",
    "\n",
    "interact(plot_pics, sample_index=range(const.NUMBER_INITIAL_STATES))"
   ]
  },
  {
   "cell_type": "markdown",
   "metadata": {},
   "source": [
    "## What about the derivatives in x?"
   ]
  },
  {
   "cell_type": "code",
   "execution_count": null,
   "metadata": {},
   "outputs": [],
   "source": [
    "def plot_pics(sample_index):\n",
    "    df_plot_x = df_x[df_x[const.UID_INITIAL_STATE_COL_NAME] == sample_index].copy().reset_index(drop=True)\n",
    "    sub_indexes = [0, 25, 50, 75, 100]\n",
    "    img_sequence = [df_plot_x[const.XDOT_COL_NAMES].values[i,:].reshape(\n",
    "        (const.PICTURE_SIZE, const.PICTURE_SIZE)) for i in sub_indexes]\n",
    "    fig = px.imshow(np.array(img_sequence),\n",
    "                    facet_col=0,\n",
    "#                     binary_string=True,\n",
    "                    labels={'facet_col':'sigma'}\n",
    "                   )\n",
    "    for i, index in enumerate(sub_indexes):\n",
    "        fig.layout.annotations[i]['text'] = f'Timestamp {index}'\n",
    "    fig.show()\n",
    "\n",
    "interact(plot_pics, sample_index=range(const.NUMBER_INITIAL_STATES))"
   ]
  },
  {
   "cell_type": "code",
   "execution_count": null,
   "metadata": {},
   "outputs": [],
   "source": [
    "x_dot = df_x[const.XDOT_COL_NAMES].values\n",
    "x = df_x[const.X_COL_NAMES].values"
   ]
  },
  {
   "cell_type": "code",
   "execution_count": null,
   "metadata": {},
   "outputs": [],
   "source": [
    "i = 10"
   ]
  },
  {
   "cell_type": "code",
   "execution_count": null,
   "metadata": {},
   "outputs": [],
   "source": [
    "px.imshow(x[i,:].reshape(100, 100))"
   ]
  },
  {
   "cell_type": "code",
   "execution_count": null,
   "metadata": {},
   "outputs": [],
   "source": [
    "px.imshow(x_dot[i,:].reshape(100, 100))"
   ]
  },
  {
   "cell_type": "code",
   "execution_count": null,
   "metadata": {},
   "outputs": [],
   "source": [
    "df_x[df_x[const.UID_INITIAL_STATE_COL_NAME] == 0]"
   ]
  },
  {
   "cell_type": "code",
   "execution_count": null,
   "metadata": {},
   "outputs": [],
   "source": [
    "df_x.info()"
   ]
  },
  {
   "cell_type": "code",
   "execution_count": null,
   "metadata": {},
   "outputs": [],
   "source": [
    "pd.Series([df_x[col].max() for col in const.X_COL_NAMES]).value_counts()"
   ]
  },
  {
   "cell_type": "code",
   "execution_count": null,
   "metadata": {},
   "outputs": [],
   "source": [
    "df_test = df_x[df_x[const.UID_INITIAL_STATE_COL_NAME] == 0]"
   ]
  },
  {
   "cell_type": "code",
   "execution_count": null,
   "metadata": {},
   "outputs": [],
   "source": [
    "df_test[const.X_COL_NAMES].std()[df_test[const.X_COL_NAMES].std()>0.069]"
   ]
  },
  {
   "cell_type": "code",
   "execution_count": null,
   "metadata": {},
   "outputs": [],
   "source": [
    "x = np.array([[1, 2, 3],[4,5,6],[7,8,9]])\n",
    "x"
   ]
  },
  {
   "cell_type": "code",
   "execution_count": null,
   "metadata": {},
   "outputs": [],
   "source": [
    "x.ravel()"
   ]
  },
  {
   "cell_type": "code",
   "execution_count": null,
   "metadata": {},
   "outputs": [],
   "source": [
    "33*100+1"
   ]
  },
  {
   "cell_type": "code",
   "execution_count": null,
   "metadata": {},
   "outputs": [],
   "source": [
    "set([df_x[df_x[const.UID_INITIAL_STATE_COL_NAME] == 0][f'x_{i}'].max() for i in range(1000)])"
   ]
  },
  {
   "cell_type": "code",
   "execution_count": null,
   "metadata": {},
   "outputs": [],
   "source": [
    "def plot_stuff(i=3504):\n",
    "    fig = px.scatter(df_x[df_x[const.UID_INITIAL_STATE_COL_NAME] == 0][f'x_{i}'])\n",
    "#     fig = px.scatter(df_x[f'x_{i}'])\n",
    "\n",
    "    fig.show()\n",
    "interact(plot_stuff, i = [i for i in range(10000)])\n",
    "    "
   ]
  },
  {
   "cell_type": "code",
   "execution_count": null,
   "metadata": {},
   "outputs": [],
   "source": [
    "def plot_stuff(i=3504):\n",
    "    fig = px.scatter(df_x[df_x[const.UID_INITIAL_STATE_COL_NAME] == 0][f'xdot_{i}'])\n",
    "#     fig = px.scatter(df_x[f'x_{i}'])\n",
    "\n",
    "    fig.show()\n",
    "interact(plot_stuff, i = [i for i in range(10000)])"
   ]
  },
  {
   "cell_type": "code",
   "execution_count": null,
   "metadata": {},
   "outputs": [],
   "source": [
    "from three_tank_data.data_module import ThreeTankDataModule\n",
    "dm = ThreeTankDataModule(.1, 10, 10)"
   ]
  },
  {
   "cell_type": "code",
   "execution_count": null,
   "metadata": {},
   "outputs": [],
   "source": []
  }
 ],
 "metadata": {
  "kernelspec": {
   "display_name": "Python 3 (ipykernel)",
   "language": "python",
   "name": "python3"
  },
  "language_info": {
   "codemirror_mode": {
    "name": "ipython",
    "version": 3
   },
   "file_extension": ".py",
   "mimetype": "text/x-python",
   "name": "python",
   "nbconvert_exporter": "python",
   "pygments_lexer": "ipython3",
   "version": "3.9.5"
  }
 },
 "nbformat": 4,
 "nbformat_minor": 4
}
