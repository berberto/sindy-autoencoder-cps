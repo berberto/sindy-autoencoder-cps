{
 "cells": [
  {
   "cell_type": "code",
   "execution_count": 1,
   "id": "ad3ab4f0",
   "metadata": {},
   "outputs": [],
   "source": [
    "import os\n",
    "os.chdir('..')"
   ]
  },
  {
   "cell_type": "code",
   "execution_count": 2,
   "id": "dcc8dece",
   "metadata": {},
   "outputs": [
    {
     "data": {
      "text/html": [
       "<style>.container { width:100% !important; }</style>"
      ],
      "text/plain": [
       "<IPython.core.display.HTML object>"
      ]
     },
     "metadata": {},
     "output_type": "display_data"
    }
   ],
   "source": [
    "from IPython.core.display import display, HTML\n",
    "display(HTML(\"<style>.container { width:100% !important; }</style>\"))"
   ]
  },
  {
   "cell_type": "code",
   "execution_count": 3,
   "id": "5f7aeac3",
   "metadata": {},
   "outputs": [
    {
     "ename": "ImportError",
     "evalue": "cannot import name 'ThreeTankDataSet' from 'three_tank_data.dataset' (/home/henrik/projects/sindy-autoencoder-cps/three_tank_data/dataset.py)",
     "output_type": "error",
     "traceback": [
      "\u001b[0;31m---------------------------------------------------------------------------\u001b[0m",
      "\u001b[0;31mImportError\u001b[0m                               Traceback (most recent call last)",
      "\u001b[0;32m/tmp/ipykernel_877216/483478373.py\u001b[0m in \u001b[0;36m<module>\u001b[0;34m\u001b[0m\n\u001b[0;32m----> 1\u001b[0;31m \u001b[0;32mfrom\u001b[0m \u001b[0mthree_tank_data\u001b[0m\u001b[0;34m.\u001b[0m\u001b[0mdataset\u001b[0m \u001b[0;32mimport\u001b[0m \u001b[0mThreeTankDataSet\u001b[0m\u001b[0;34m\u001b[0m\u001b[0;34m\u001b[0m\u001b[0m\n\u001b[0m\u001b[1;32m      2\u001b[0m \u001b[0;32mfrom\u001b[0m \u001b[0mtorch\u001b[0m\u001b[0;34m.\u001b[0m\u001b[0mutils\u001b[0m\u001b[0;34m.\u001b[0m\u001b[0mdata\u001b[0m \u001b[0;32mimport\u001b[0m \u001b[0mDataLoader\u001b[0m\u001b[0;34m\u001b[0m\u001b[0;34m\u001b[0m\u001b[0m\n",
      "\u001b[0;31mImportError\u001b[0m: cannot import name 'ThreeTankDataSet' from 'three_tank_data.dataset' (/home/henrik/projects/sindy-autoencoder-cps/three_tank_data/dataset.py)"
     ]
    }
   ],
   "source": [
    "from three_tank_data.dataset import ThreeTankDataSet\n",
    "from torch.utils.data import DataLoader"
   ]
  },
  {
   "cell_type": "code",
   "execution_count": null,
   "id": "5681019c",
   "metadata": {},
   "outputs": [],
   "source": [
    "dataset = ThreeTankDataSet(debug=True)"
   ]
  },
  {
   "cell_type": "code",
   "execution_count": null,
   "id": "77251255",
   "metadata": {},
   "outputs": [],
   "source": [
    "batch_size = 1000\n",
    "dataloader = DataLoader(dataset, batch_size=batch_size, num_workers=24)"
   ]
  },
  {
   "cell_type": "code",
   "execution_count": null,
   "id": "8faa9c67",
   "metadata": {},
   "outputs": [],
   "source": [
    "from sindy_autoencoder_cps.lightning_module import SINDyAutoencoder\n",
    "import yaml\n",
    "# MODEL_VERSION = 'freq_and_phase'\n",
    "MODEL_VERSION = 'version_35'\n",
    "\n",
    "hparams_path = f'./lightning_logs/{MODEL_VERSION}/hparams.yaml'\n",
    "with open(hparams_path, 'r') as stream:\n",
    "        hparam_dct = yaml.safe_load(stream)\n",
    "ckpt_file_name = os.listdir(f'./lightning_logs/{MODEL_VERSION}/checkpoints/')[-1]\n",
    "ckpt_file_path = f'./lightning_logs/{MODEL_VERSION}/checkpoints/{ckpt_file_name}'\n",
    "model = SINDyAutoencoder.load_from_checkpoint(ckpt_file_path)\n",
    "model"
   ]
  },
  {
   "cell_type": "code",
   "execution_count": null,
   "id": "59b24d4c",
   "metadata": {},
   "outputs": [],
   "source": [
    "model.SINDyLibrary.device"
   ]
  },
  {
   "cell_type": "code",
   "execution_count": null,
   "id": "3813ff03",
   "metadata": {},
   "outputs": [],
   "source": [
    "batches = iter(dataloader)"
   ]
  },
  {
   "cell_type": "code",
   "execution_count": null,
   "id": "ec101cd9",
   "metadata": {},
   "outputs": [],
   "source": [
    "x, xdot, idxs = batches.next()\n",
    "print(f'shape x: {x.shape},   shape xdot: {xdot.shape}')"
   ]
  },
  {
   "cell_type": "code",
   "execution_count": null,
   "id": "effa7076",
   "metadata": {},
   "outputs": [],
   "source": [
    "x_hat, xdot_hat, z, zdot, zdot_hat = model.cuda()(x.cuda(), xdot.cuda())"
   ]
  },
  {
   "cell_type": "code",
   "execution_count": null,
   "id": "4a0e22cd",
   "metadata": {},
   "outputs": [],
   "source": [
    "#select random sample and compare original and recostruction\n",
    "sample = 0\n",
    "# sample = 477\n",
    "x_sample = x[sample, :].cpu().detach().numpy()\n",
    "xhat_sample = x_hat[sample, :].cpu().detach().numpy()\n",
    "z_sample = z[sample, :].cpu().detach().numpy()\n",
    "xdot_sample = xdot[sample, :].cpu().detach().numpy()\n",
    "xdot_hat_sample = xdot_hat[sample, :].cpu().detach().numpy()\n",
    "zdot_sample = zdot[sample, :].cpu().detach().numpy()\n",
    "zdot_hat_sample = zdot_hat[sample, :].cpu().detach().numpy()\n",
    "idx_sample = idxs[sample]"
   ]
  },
  {
   "cell_type": "code",
   "execution_count": null,
   "id": "5a06c966",
   "metadata": {},
   "outputs": [],
   "source": [
    "import matplotlib.pyplot as plt\n",
    "import constants as const\n",
    "f, axarr = plt.subplots(1,2)\n",
    "axarr[0].imshow(x_sample.reshape(const.PICTURE_SIZE, const.PICTURE_SIZE))\n",
    "axarr[1].imshow(xhat_sample.reshape(const.PICTURE_SIZE, const.PICTURE_SIZE))\n",
    "f, axarr = plt.subplots(1,2)\n",
    "axarr[0].imshow(xdot_sample.reshape(const.PICTURE_SIZE, const.PICTURE_SIZE))\n",
    "axarr[1].imshow(xdot_hat_sample.reshape(const.PICTURE_SIZE, const.PICTURE_SIZE))"
   ]
  },
  {
   "cell_type": "code",
   "execution_count": null,
   "id": "3d845673",
   "metadata": {},
   "outputs": [],
   "source": [
    "zdot_sample"
   ]
  },
  {
   "cell_type": "code",
   "execution_count": null,
   "id": "77cc70a6",
   "metadata": {},
   "outputs": [],
   "source": [
    "zdot_hat_sample"
   ]
  },
  {
   "cell_type": "code",
   "execution_count": null,
   "id": "adca2608",
   "metadata": {},
   "outputs": [],
   "source": [
    "XI = model.XI.cpu().detach().numpy()\n",
    "XI.max()"
   ]
  },
  {
   "cell_type": "code",
   "execution_count": null,
   "id": "aeea1772",
   "metadata": {},
   "outputs": [],
   "source": [
    "import pandas as pd"
   ]
  },
  {
   "cell_type": "code",
   "execution_count": null,
   "id": "45db19e9",
   "metadata": {},
   "outputs": [],
   "source": [
    "df_XI = pd.DataFrame(XI, columns=['z0_dot_hat', 'z1_dot_hat', 'z2_dot_hat'])\n",
    "df_XI.index=model.SINDyLibrary.feature_names"
   ]
  },
  {
   "cell_type": "code",
   "execution_count": null,
   "id": "71b2ea10",
   "metadata": {},
   "outputs": [],
   "source": [
    "import plotly.express as px\n",
    "print(model.SINDyLibrary.feature_names)\n",
    "px.imshow(df_XI.abs())"
   ]
  },
  {
   "cell_type": "code",
   "execution_count": null,
   "id": "afeb77c4",
   "metadata": {},
   "outputs": [],
   "source": [
    "model.XI_coefficient_mask"
   ]
  },
  {
   "cell_type": "code",
   "execution_count": null,
   "id": "be0cbed8",
   "metadata": {},
   "outputs": [],
   "source": [
    "XI_mask = model.XI_coefficient_mask.cpu().detach().numpy()\n",
    "df_XI_mask = pd.DataFrame(XI_mask, columns=['z0_dot_hat', 'z1_dot_hat', 'z2_dot_hat'])\n",
    "df_XI_mask.index=model.SINDyLibrary.feature_names\n",
    "px.imshow(df_XI_mask)"
   ]
  },
  {
   "cell_type": "code",
   "execution_count": null,
   "id": "7efd5b98",
   "metadata": {},
   "outputs": [],
   "source": [
    "dataset"
   ]
  },
  {
   "cell_type": "code",
   "execution_count": null,
   "id": "d195abac",
   "metadata": {},
   "outputs": [],
   "source": []
  },
  {
   "cell_type": "code",
   "execution_count": null,
   "id": "a72ca314",
   "metadata": {},
   "outputs": [],
   "source": []
  },
  {
   "cell_type": "code",
   "execution_count": null,
   "id": "b0bba78c",
   "metadata": {},
   "outputs": [],
   "source": [
    "from plotly.subplots import make_subplots\n",
    "import plotly.graph_objects as go\n",
    "import numpy as np\n",
    "\n",
    "fig = make_subplots(rows=2, cols=3, shared_xaxes=True)\n",
    "\n",
    "for i in range(3):\n",
    "    fig.add_trace(go.Scatter(x=np.array(range(z.shape[0])),\n",
    "                       y=z[:, i].cpu().detach().numpy(),\n",
    "                      mode='markers', name=f'z{i}',\n",
    "                             marker_color='blue', opacity=.5), row=1, col=1+i,\n",
    "                    )\n",
    "for i in range(3):\n",
    "    fig.add_trace(go.Scatter(x=np.array(range(z.shape[0])),\n",
    "                       y=zdot_hat[:, i].cpu().detach().numpy(),\n",
    "                      mode='markers', name=f'zdot_hat{i}',\n",
    "                            marker_color='blue', opacity=.4), row=2, col=1+i)\n",
    "for i in range(3):\n",
    "    fig.add_trace(go.Scatter(x=np.array(range(z.shape[0])),\n",
    "                       y=zdot[:, i].cpu().detach().numpy(),\n",
    "                      mode='markers', name=f'zdot{i}',\n",
    "                             marker_color='green', opacity=.5), row=2, col=1+i)\n",
    "\n",
    "\n",
    "\n",
    "fig.update_layout(height=600, width=1200, title_text=\"Side By Side Subplots\")\n",
    "fig.show()"
   ]
  },
  {
   "cell_type": "code",
   "execution_count": null,
   "id": "e6d3ff22",
   "metadata": {},
   "outputs": [],
   "source": [
    "z_real = dataset.df.iloc[idxs][const.Z_COL_NAMES]\n",
    "fig = make_subplots(rows=2, cols=3, shared_xaxes=True)\n",
    "\n",
    "for i in range(3):\n",
    "    fig.add_trace(go.Scatter(x=np.array(range(z.shape[0])),\n",
    "                       y=z_real.values[:, i],\n",
    "                      mode='markers', name=f'z_real{i}',\n",
    "                             marker_color='blue', opacity=.5), row=1, col=1+i)\n",
    "for j,i in enumerate([0, 2, 1]):\n",
    "    fig.add_trace(go.Scatter(x=np.array(range(z.shape[0])),\n",
    "                   y=z[:, i].cpu().detach().numpy(),\n",
    "                  mode='markers', name=f'z{i}',\n",
    "                         marker_color='green', opacity=.5), row=2, col=1+j,\n",
    "                )\n",
    "\n",
    "\n",
    "fig.update_layout(height=600, width=1200, title_text=\"Side By Side Subplots\")\n",
    "fig.show()"
   ]
  },
  {
   "cell_type": "code",
   "execution_count": null,
   "id": "8f56ec53",
   "metadata": {},
   "outputs": [],
   "source": [
    "[(val, i) for val,i in enumerate(['a', 'b', 'c'])]"
   ]
  },
  {
   "cell_type": "code",
   "execution_count": null,
   "id": "84a67e5e",
   "metadata": {},
   "outputs": [],
   "source": [
    "z_real = dataset.df.iloc[idxs][const.Z_COL_NAMES]\n",
    "fig = make_subplots(rows=2, cols=3)\n",
    "\n",
    "for real, pred in zip([0, 1, 2], [0, 2, 1]):\n",
    "    fig.add_trace(go.Scatter(x=z_real.values[:, real],\n",
    "                       y=z[:, pred].cpu().detach().numpy(),\n",
    "                      mode='markers', name=f'z_real{i}',\n",
    "                             marker_color='blue', opacity=.5), row=1, col=1+real)\n",
    "\n",
    "\n",
    "fig.update_layout(height=600, width=1200, title_text=\"Side By Side Subplots\")\n",
    "fig.show()"
   ]
  },
  {
   "cell_type": "code",
   "execution_count": null,
   "id": "10a90265",
   "metadata": {},
   "outputs": [],
   "source": [
    "model.XI_coefficient_mask"
   ]
  },
  {
   "cell_type": "code",
   "execution_count": null,
   "id": "aa7e9251",
   "metadata": {},
   "outputs": [],
   "source": []
  },
  {
   "cell_type": "code",
   "execution_count": null,
   "id": "23145d31",
   "metadata": {},
   "outputs": [],
   "source": []
  },
  {
   "cell_type": "code",
   "execution_count": null,
   "id": "4bea013a",
   "metadata": {},
   "outputs": [],
   "source": []
  }
 ],
 "metadata": {
  "kernelspec": {
   "display_name": "Python 3 (ipykernel)",
   "language": "python",
   "name": "python3"
  },
  "language_info": {
   "codemirror_mode": {
    "name": "ipython",
    "version": 3
   },
   "file_extension": ".py",
   "mimetype": "text/x-python",
   "name": "python",
   "nbconvert_exporter": "python",
   "pygments_lexer": "ipython3",
   "version": "3.9.5"
  }
 },
 "nbformat": 4,
 "nbformat_minor": 5
}
