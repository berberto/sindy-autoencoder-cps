{
 "cells": [
  {
   "cell_type": "code",
   "execution_count": 1,
   "id": "ad3ab4f0",
   "metadata": {},
   "outputs": [],
   "source": [
    "import os\n",
    "os.chdir('..')"
   ]
  },
  {
   "cell_type": "code",
   "execution_count": 2,
   "id": "dcc8dece",
   "metadata": {},
   "outputs": [
    {
     "data": {
      "text/html": [
       "<style>.container { width:100% !important; }</style>"
      ],
      "text/plain": [
       "<IPython.core.display.HTML object>"
      ]
     },
     "metadata": {},
     "output_type": "display_data"
    }
   ],
   "source": [
    "from IPython.core.display import display, HTML\n",
    "display(HTML(\"<style>.container { width:100% !important; }</style>\"))"
   ]
  },
  {
   "cell_type": "code",
   "execution_count": 3,
   "id": "5f7aeac3",
   "metadata": {},
   "outputs": [],
   "source": [
    "from three_tank_data.dataset import ThreeTankDataSet\n",
    "from torch.utils.data import DataLoader"
   ]
  },
  {
   "cell_type": "code",
   "execution_count": 4,
   "id": "5681019c",
   "metadata": {},
   "outputs": [],
   "source": [
    "dataset = ThreeTankDataSet()"
   ]
  },
  {
   "cell_type": "code",
   "execution_count": 5,
   "id": "77251255",
   "metadata": {},
   "outputs": [],
   "source": [
    "batch_size = 100\n",
    "dataloader = DataLoader(dataset, batch_size=batch_size, num_workers=24)"
   ]
  },
  {
   "cell_type": "code",
   "execution_count": null,
   "id": "7a87ccfa",
   "metadata": {},
   "outputs": [],
   "source": []
  },
  {
   "cell_type": "code",
   "execution_count": 6,
   "id": "8faa9c67",
   "metadata": {},
   "outputs": [
    {
     "name": "stderr",
     "output_type": "stream",
     "text": [
      "Global seed set to 12354\n"
     ]
    },
    {
     "data": {
      "text/plain": [
       "SINDyAutoencoder(\n",
       "  (phi_x): Encoder(\n",
       "    (fc1): Linear(in_features=10000, out_features=100, bias=True)\n",
       "    (fc2): Linear(in_features=100, out_features=100, bias=True)\n",
       "    (fc3): Linear(in_features=100, out_features=3, bias=True)\n",
       "    (activation): ReLU()\n",
       "  )\n",
       "  (psi_z): Decoder(\n",
       "    (fc1): Linear(in_features=3, out_features=100, bias=True)\n",
       "    (fc2): Linear(in_features=100, out_features=100, bias=True)\n",
       "    (fc3): Linear(in_features=100, out_features=10000, bias=True)\n",
       "    (activation): ReLU()\n",
       "  )\n",
       ")"
      ]
     },
     "execution_count": 6,
     "metadata": {},
     "output_type": "execute_result"
    }
   ],
   "source": [
    "from sindy_autoencoder_cps.lightning_module import SINDyAutoencoder\n",
    "import yaml\n",
    "# MODEL_VERSION = 'freq_and_phase'\n",
    "MODEL_VERSION = 'version_8'\n",
    "\n",
    "hparams_path = f'./lightning_logs/{MODEL_VERSION}/hparams.yaml'\n",
    "with open(hparams_path, 'r') as stream:\n",
    "        hparam_dct = yaml.safe_load(stream)\n",
    "ckpt_file_name = os.listdir(f'./lightning_logs/{MODEL_VERSION}/checkpoints/')[-1]\n",
    "ckpt_file_path = f'./lightning_logs/{MODEL_VERSION}/checkpoints/{ckpt_file_name}'\n",
    "model = SINDyAutoencoder.load_from_checkpoint(ckpt_file_path)\n",
    "model"
   ]
  },
  {
   "cell_type": "code",
   "execution_count": 7,
   "id": "3813ff03",
   "metadata": {},
   "outputs": [],
   "source": [
    "batches = iter(dataloader)"
   ]
  },
  {
   "cell_type": "code",
   "execution_count": 8,
   "id": "ec101cd9",
   "metadata": {},
   "outputs": [
    {
     "name": "stdout",
     "output_type": "stream",
     "text": [
      "shape x_batch: torch.Size([100, 10000]),   shape xdot_batch: torch.Size([100, 10000])\n"
     ]
    }
   ],
   "source": [
    "x_batch, xdot_batch, idxs = batches.next()\n",
    "print(f'shape x_batch: {x_batch.shape},   shape xdot_batch: {xdot_batch.shape}')"
   ]
  },
  {
   "cell_type": "code",
   "execution_count": 9,
   "id": "e4bac1ee",
   "metadata": {},
   "outputs": [
    {
     "name": "stdout",
     "output_type": "stream",
     "text": [
      "shape z_batch: torch.Size([100, 3]), shape xhat_batch:torch.Size([100, 10000])\n"
     ]
    }
   ],
   "source": [
    "z_batch = model.phi_x(x_batch)\n",
    "xhat_batch = model.psi_z(z_batch)\n",
    "print(f'shape z_batch: {z_batch.shape}, shape xhat_batch:{xhat_batch.shape}')"
   ]
  },
  {
   "cell_type": "code",
   "execution_count": 10,
   "id": "4a0e22cd",
   "metadata": {},
   "outputs": [],
   "source": [
    "#select random sample and compare original and recostruction\n",
    "sample = 50\n",
    "x_sample = x_batch[sample, :].detach().numpy()\n",
    "xhat_sample = xhat_batch[sample, :].detach().numpy()\n",
    "z_sample = z_batch[sample, :].detach().numpy()\n",
    "idx_sample = idxs[sample]"
   ]
  },
  {
   "cell_type": "code",
   "execution_count": 11,
   "id": "2612a760",
   "metadata": {},
   "outputs": [
    {
     "data": {
      "text/plain": [
       "<matplotlib.image.AxesImage at 0x7f97b914b3d0>"
      ]
     },
     "execution_count": 11,
     "metadata": {},
     "output_type": "execute_result"
    },
    {
     "data": {
      "image/png": "[encoded data removed]",
      "text/plain": [
       "<Figure size 432x288 with 1 Axes>"
      ]
     },
     "metadata": {
      "needs_background": "light"
     },
     "output_type": "display_data"
    }
   ],
   "source": [
    "import matplotlib.pyplot as plt\n",
    "import constants as const\n",
    "plt.imshow(x_sample.reshape(const.PICTURE_SIZE, const.PICTURE_SIZE))"
   ]
  },
  {
   "cell_type": "code",
   "execution_count": 12,
   "id": "dfd50df0",
   "metadata": {},
   "outputs": [
    {
     "data": {
      "text/plain": [
       "<matplotlib.image.AxesImage at 0x7f97b9033c40>"
      ]
     },
     "execution_count": 12,
     "metadata": {},
     "output_type": "execute_result"
    },
    {
     "data": {
      "image/png": "[encoded data removed]",
      "text/plain": [
       "<Figure size 432x288 with 1 Axes>"
      ]
     },
     "metadata": {
      "needs_background": "light"
     },
     "output_type": "display_data"
    }
   ],
   "source": [
    "plt.imshow(xhat_sample.reshape(const.PICTURE_SIZE, const.PICTURE_SIZE))"
   ]
  },
  {
   "cell_type": "code",
   "execution_count": 13,
   "id": "71b2ea10",
   "metadata": {},
   "outputs": [
    {
     "data": {
      "text/plain": [
       "array([0.2176819, 4.609342 , 3.3562396], dtype=float32)"
      ]
     },
     "execution_count": 13,
     "metadata": {},
     "output_type": "execute_result"
    }
   ],
   "source": [
    "z_sample"
   ]
  },
  {
   "cell_type": "code",
   "execution_count": 14,
   "id": "945a178d",
   "metadata": {},
   "outputs": [
    {
     "data": {
      "text/plain": [
       "tensor(50)"
      ]
     },
     "execution_count": 14,
     "metadata": {},
     "output_type": "execute_result"
    }
   ],
   "source": [
    "idx_sample"
   ]
  },
  {
   "cell_type": "code",
   "execution_count": 17,
   "id": "3b9861c2",
   "metadata": {},
   "outputs": [
    {
     "data": {
      "text/plain": [
       "Index(['x_0', 'x_1', 'x_2', 'x_3', 'x_4', 'x_5', 'x_6', 'x_7', 'x_8', 'x_9',\n",
       "       ...\n",
       "       'xdot_9992', 'xdot_9993', 'xdot_9994', 'xdot_9995', 'xdot_9996',\n",
       "       'xdot_9997', 'xdot_9998', 'xdot_9999', 'time', 'uid_initial_state'],\n",
       "      dtype='object', length=20002)"
      ]
     },
     "execution_count": 17,
     "metadata": {},
     "output_type": "execute_result"
    }
   ],
   "source": [
    "dataset.df.columns"
   ]
  },
  {
   "cell_type": "code",
   "execution_count": null,
   "id": "53707051",
   "metadata": {},
   "outputs": [],
   "source": []
  }
 ],
 "metadata": {
  "kernelspec": {
   "display_name": "Python 3 (ipykernel)",
   "language": "python",
   "name": "python3"
  },
  "language_info": {
   "codemirror_mode": {
    "name": "ipython",
    "version": 3
   },
   "file_extension": ".py",
   "mimetype": "text/x-python",
   "name": "python",
   "nbconvert_exporter": "python",
   "pygments_lexer": "ipython3",
   "version": "3.9.5"
  }
 },
 "nbformat": 4,
 "nbformat_minor": 5
}
